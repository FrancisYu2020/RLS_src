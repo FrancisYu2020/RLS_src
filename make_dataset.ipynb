{
 "cells": [
  {
   "cell_type": "code",
   "execution_count": 15,
   "metadata": {
    "tags": []
   },
   "outputs": [
    {
     "name": "stdout",
     "output_type": "stream",
     "text": [
      "Maximum array size (np.float64): 27943418880.0 elements\n"
     ]
    }
   ],
   "source": [
    "# %matplotlib ipympl\n",
    "import cv2\n",
    "import matplotlib.pyplot as plt\n",
    "import numpy as np\n",
    "import json\n",
    "import pandas as pd\n",
    "import torch\n",
    "import torch.nn.functional as F\n",
    "import os\n",
    "import psutil\n",
    "from utils.preprocess import *\n",
    "\n",
    "# Get available memory\n",
    "available_memory = psutil.virtual_memory().available\n",
    "\n",
    "# Assuming np.float64\n",
    "element_size = np.dtype(np.float64).itemsize\n",
    "\n",
    "# Calculate max array size\n",
    "max_array_size = available_memory / element_size\n",
    "\n",
    "print(f\"Maximum array size (np.float64): {max_array_size} elements\")\n",
    "# from mpl_interactions import ipyplot as iplt\n",
    "# from matplotlib.cm import ScalarMappable"
   ]
  },
  {
   "cell_type": "code",
   "execution_count": 2,
   "metadata": {
    "tags": []
   },
   "outputs": [
    {
     "name": "stdout",
     "output_type": "stream",
     "text": [
      "594890\n"
     ]
    }
   ],
   "source": [
    "# Data loading Version 2 - toy data previously\n",
    "data_root = '/scratch/bbsg/hangy6/RLS/data'\n",
    "# patient_dir = f'{data_root}/patient01-08-27-2023'\n",
    "# patient_dir = f'{data_root}/patient05-02-15-2024'\n",
    "# patient_dir = f'{data_root}/patient06-02-17-2024'\n",
    "# patient_dir = f'{data_root}/patient09-03-01-2024'\n",
    "# patient_dir = f'{data_root}/patient11-03-15-2024'\n",
    "patient_dir = f'{data_root}/patient13-03-31-2024'\n",
    "# patient_dir = f'{data_root}/patient14-04-03-2024'\n",
    "\n",
    "print(f'Memory available before loading data: {psutil.virtual_memory().available}')\n",
    "try:\n",
    "    del matrices, timestamps, data\n",
    "except:\n",
    "    pass\n",
    "\n",
    "window_size = 156\n",
    "data_file = os.path.join(patient_dir, 'raw_pressure_data.npy')\n",
    "timestamps_file = os.path.join(patient_dir, 'raw_timestamps.npy')\n",
    "if os.path.exists(data_file) and os.path.exists(timestamps_file):\n",
    "    print('load existing pressure data...')\n",
    "    matrices = np.load(data_file).astype(np.float32)\n",
    "    timestamps = np.load(timestamps_file)\n",
    "    print(f'successfully loaded pressure data from {data_file} and timestamps from {timestamps_file}')\n",
    "else:\n",
    "    print('Generating pressure data from raw json file...')\n",
    "    pressure_data = load_json(os.path.join(patient_dir, 'raw_data.json'))\n",
    "    matrices, timestamps = get_pressure_matrices(pressure_data)\n",
    "    np.save(data_file, np.array(matrices))\n",
    "    np.save(data_file, np.array(timestamps))\n",
    "    print('Successfully saved pressure data and timestamps')"
   ]
  },
  {
   "cell_type": "code",
   "execution_count": null,
   "metadata": {
    "tags": []
   },
   "outputs": [
    {
     "name": "stdout",
     "output_type": "stream",
     "text": [
      "(14872, 40, 16, 16)\n",
      "timestamps at break: 2024-03-16T05:21:41.9322938-05:00\n",
      "(14382, 40, 16, 16) 1141 (0, 40, 16, 16) 0\n"
     ]
    },
    {
     "name": "stderr",
     "output_type": "stream",
     "text": [
      "/tmp/ipykernel_3241946/3121324919.py:187: RuntimeWarning: invalid value encountered in divide\n",
      "  normalized_X = X / X_norm\n"
     ]
    }
   ],
   "source": [
    "save_data = False\n",
    "balanced = False\n",
    "window_size = 40\n",
    "    \n",
    "EMG_label_path = f'{patient_dir}/positive_timestamps.csv'\n",
    "train_data, train_label, train_roi_label, val_data, val_label, val_roi_label = \\\n",
    "make_labels(matrices, timestamps, EMG_label_path, filter_timestamp=None, \\\n",
    "            window_size=window_size, balanced=balanced, overlap_train=False, split_ratio=1.0, plot_statistics=False)\n",
    "# make_labels(matrices, timestamps, EMG_label_path, filter_timestamp='2023-12-11T01:00:56.3789055-06:00', \\\n",
    "#             window_size=window_size, balanced=True, overlap_train=False, split_ratio=0.8)\n",
    "if not balanced:\n",
    "    window_size = f'{window_size}_LT'\n",
    "\n",
    "positive_idx = train_label > 0\n",
    "negative_idx = train_label == 0\n",
    "positive_data = train_data[positive_idx]\n",
    "negative_data = train_data[negative_idx]\n",
    "batch1_positive = positive_data[:, ...]\n",
    "# batch2_positive = positive_data[50:100, ...]\n",
    "batch1_negative = negative_data[:, ...]\n",
    "# batch2_negative = negative_data[25:100, ...]\n",
    "batch1 = np.concatenate([batch1_positive, batch1_negative], axis=0)\n",
    "# batch2 = np.concatenate([batch2_positive, batch2_negative], axis=0)\n",
    "cosine_matrix = cosine_similarity(batch1, batch1)\n",
    "plt.imshow(cosine_matrix)\n",
    "plt.colorbar()\n",
    "len_pos, N = len(positive_data), len(train_data)\n",
    "# plt.plot([len_pos] * N, np.arange(N), color='red')\n",
    "# plt.plot(np.arange(N), [len_pos] * N, color='red')\n",
    "plt.savefig(f'{path}/win{window_size}_data_cosine_similarity.png')\n",
    "\n",
    "if save_data:\n",
    "    np.save(f'{patient_dir}/win{window_size}_sensing_mat_data_train.npy', train_data)\n",
    "    np.save(f'{patient_dir}/win{window_size}_sensing_mat_data_val.npy', val_data)\n",
    "    np.save(f'{patient_dir}/win{window_size}_EMG_label_train.npy', train_label)\n",
    "    np.save(f'{patient_dir}/win{window_size}_EMG_roi_label_train.npy', train_roi_label)\n",
    "    np.save(f'{patient_dir}/win{window_size}_EMG_label_val.npy', val_label)\n",
    "    np.save(f'{patient_dir}/win{window_size}_EMG_roi_label_val.npy', val_roi_label)"
   ]
  }
 ],
 "metadata": {
  "kernelspec": {
   "display_name": "Python 3 (ipykernel)",
   "language": "python",
   "name": "python3"
  },
  "language_info": {
   "codemirror_mode": {
    "name": "ipython",
    "version": 3
   },
   "file_extension": ".py",
   "mimetype": "text/x-python",
   "name": "python",
   "nbconvert_exporter": "python",
   "pygments_lexer": "ipython3",
   "version": "3.9.18"
  }
 },
 "nbformat": 4,
 "nbformat_minor": 4
}
