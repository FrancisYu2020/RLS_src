{
 "cells": [
  {
   "cell_type": "code",
   "execution_count": 1,
   "metadata": {
    "tags": []
   },
   "outputs": [
    {
     "name": "stdout",
     "output_type": "stream",
     "text": [
      "Maximum array size (np.float64): 30025338368.0 elements\n"
     ]
    }
   ],
   "source": [
    "# %matplotlib ipympl\n",
    "import cv2\n",
    "import matplotlib.pyplot as plt\n",
    "import numpy as np\n",
    "import json\n",
    "import pandas as pd\n",
    "import torch\n",
    "import torch.nn.functional as F\n",
    "import os\n",
    "import psutil\n",
    "from utils.preprocess import *\n",
    "from matplotlib.patches import Rectangle\n",
    "\n",
    "# Get available memory\n",
    "available_memory = psutil.virtual_memory().available\n",
    "\n",
    "# Assuming np.float64\n",
    "element_size = np.dtype(np.float64).itemsize\n",
    "\n",
    "# Calculate max array size\n",
    "max_array_size = available_memory / element_size\n",
    "\n",
    "print(f\"Maximum array size (np.float64): {max_array_size} elements\")"
   ]
  },
  {
   "cell_type": "code",
   "execution_count": 2,
   "metadata": {
    "tags": []
   },
   "outputs": [
    {
     "name": "stdout",
     "output_type": "stream",
     "text": [
      "Memory available before loading data: 240187592704\n",
      "Generating pressure data from raw json file...\n",
      "636283 data records loaded from /scratch/bbsg/hangy6/RLS/data/patient13-03-31-2024/raw_data.json!\n",
      "\n",
      "Memory available after loading data: 227340820480\n"
     ]
    },
    {
     "data": {
      "text/plain": [
       "(4078, 156, 16, 16)"
      ]
     },
     "execution_count": 2,
     "metadata": {},
     "output_type": "execute_result"
    }
   ],
   "source": [
    "# Data loading Version 2 - toy data previously\n",
    "data_root = '/scratch/bbsg/hangy6/RLS/data'\n",
    "# patient_dir = f'{data_root}/patient01-08-27-2023'\n",
    "# patient_dir = f'{data_root}/patient03-12-12-2023'\n",
    "# patient_dir = f'{data_root}/patient04-12-14-2023'\n",
    "# patient_dir = f'{data_root}/patient05-02-15-2024'\n",
    "# patient_dir = f'{data_root}/patient06-02-17-2024'\n",
    "# patient_dir = f'{data_root}/patient07-02-24-2024'\n",
    "# patient_dir = f'{data_root}/patient08-02-29-2024'\n",
    "# patient_dir = f'{data_root}/patient09-03-01-2024'\n",
    "# patient_dir = f'{data_root}/patient10-03-14-2024'\n",
    "# patient_dir = f'{data_root}/patient11-03-15-2024'\n",
    "patient_dir = f'{data_root}/patient13-03-31-2024'\n",
    "# patient_dir = f'{data_root}/patient14-04-03-2024'\n",
    "\n",
    "print(f'Memory available before loading data: {psutil.virtual_memory().available}')\n",
    "try:\n",
    "    del matrices, timestamps, data\n",
    "except:\n",
    "    pass\n",
    "\n",
    "window_size = 156\n",
    "data_file = os.path.join(patient_dir, 'raw_pressure_data.npy')\n",
    "timestamps_file = os.path.join(patient_dir, 'raw_timestamps.npy')\n",
    "if os.path.exists(data_file) and os.path.exists(timestamps_file):\n",
    "    print('load existing pressure data...')\n",
    "    matrices = np.load(data_file).astype(np.float32)\n",
    "    timestamps = np.load(timestamps_file)\n",
    "    print(f'successfully loaded pressure data from {data_file} and timestamps from {timestamps_file}')\n",
    "else:\n",
    "    print('Generating pressure data from raw json file...')\n",
    "    pressure_data = load_json(os.path.join(patient_dir, 'raw_data.json'))\n",
    "    matrices, timestamps = get_pressure_matrices(pressure_data)\n",
    "    np.save(data_file, np.array(matrices))\n",
    "    np.save(data_file, np.array(timestamps))\n",
    "    print('Successfully saved pressure data and timestamps')\n",
    "    \n",
    "data = get_data_chunks(matrices, timestamps, window_size)\n",
    "print(f'Memory available after loading data: {psutil.virtual_memory().available}')\n",
    "data.shape"
   ]
  },
  {
   "cell_type": "code",
   "execution_count": 3,
   "metadata": {
    "tags": []
   },
   "outputs": [],
   "source": [
    "bar = data.sum(axis=(1,2,3)) != 0\n",
    "np.save(f'{patient_dir}/win{window_size}_data_bar.npy', bar)\n",
    "# plt.plot(np.arange(len(bar)), bar)\n",
    "# cosine_matrix = cosine_similarity(data, data)\n",
    "# plt.imshow(cosine_matrix)\n",
    "# plt.colorbar()\n",
    "# plt.savefig(f'{path}/win{window_size}_full_data_cosine_similarity.png')"
   ]
  },
  {
   "cell_type": "code",
   "execution_count": 11,
   "metadata": {},
   "outputs": [],
   "source": [
    "def plot_bar(bars):\n",
    "    bar_lens = [len(bar) for bar in bars]\n",
    "    print(max(bar_lens))\n",
    "    plt.xlim(0, max(bar_lens))\n",
    "    plt.ylim(0, len(bars) * 0.2)\n",
    "    for i in range(max(bar_lens)):\n",
    "        for j in range(len(bars)):\n",
    "            if len(bars[j]) <= i:\n",
    "                continue\n",
    "            color = 'red' if bars[j][i] else 'black'\n",
    "            rect = Rectangle((i, 0.2 * j), 1, 0.1, edgecolor=color, facecolor=color, linewidth=0.1)\n",
    "            plt.gca().add_patch(rect)\n",
    "        "
   ]
  },
  {
   "cell_type": "code",
   "execution_count": 12,
   "metadata": {
    "tags": []
   },
   "outputs": [
    {
     "name": "stdout",
     "output_type": "stream",
     "text": [
      "4078\n"
     ]
    },
    {
     "data": {
      "image/png": "[encoded data removed]",
      "text/plain": [
       "<Figure size 640x480 with 1 Axes>"
      ]
     },
     "metadata": {},
     "output_type": "display_data"
    }
   ],
   "source": [
    "bar_filename = 'win156_data_bar.npy'\n",
    "bars = [np.load(f'{data_root}/patient11-03-15-2024/' + bar_filename),\\\n",
    "        np.load(f'{data_root}/patient13-03-31-2024/' + bar_filename),\\\n",
    "        np.load(f'{data_root}/patient14-04-03-2024/' + bar_filename)]\n",
    "# bars = [np.load(os.path.join(patient_dir, bar_filename))]\n",
    "plot_bar(bars)\n",
    "plt.savefig('sanity_check.png')"
   ]
  },
  {
   "cell_type": "code",
   "execution_count": null,
   "metadata": {},
   "outputs": [],
   "source": []
  }
 ],
 "metadata": {
  "kernelspec": {
   "display_name": "Python 3 (ipykernel)",
   "language": "python",
   "name": "python3"
  },
  "language_info": {
   "codemirror_mode": {
    "name": "ipython",
    "version": 3
   },
   "file_extension": ".py",
   "mimetype": "text/x-python",
   "name": "python",
   "nbconvert_exporter": "python",
   "pygments_lexer": "ipython3",
   "version": "3.9.18"
  }
 },
 "nbformat": 4,
 "nbformat_minor": 4
}
